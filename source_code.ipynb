{
 "cells": [
  {
   "cell_type": "code",
   "execution_count": 31,
   "metadata": {},
   "outputs": [],
   "source": [
    "from sklearn.ensemble import VotingClassifier\n",
    "from sklearn.neighbors import KNeighborsClassifier\n",
    "from sklearn.naive_bayes import GaussianNB\n",
    "from xgboost import XGBClassifier\n",
    "from lightgbm import LGBMClassifier\n",
    "from sklearn.linear_model import LogisticRegression\n",
    "from sklearn.datasets import load_diabetes\n",
    "from sklearn.model_selection import train_test_split\n",
    "from sklearn.metrics import accuracy_score\n",
    "from sklearn.model_selection import GridSearchCV\n",
    "from sklearn.model_selection import RepeatedStratifiedKFold\n",
    "from sklearn.ensemble import RandomForestClassifier\n",
    "from sklearn.ensemble import StackingClassifier\n",
    "from sklearn.ensemble import BaggingClassifier, AdaBoostClassifier\n",
    "from sklearn import preprocessing\n",
    "from sklearn.svm import SVC\n",
    "from sklearn.metrics import f1_score\n",
    "import pandas as pd\n",
    "import numpy as np"
   ]
  },
  {
   "cell_type": "code",
   "execution_count": 32,
   "metadata": {},
   "outputs": [
    {
     "name": "stdout",
     "output_type": "stream",
     "text": [
      "(5250, 1200)\n"
     ]
    }
   ],
   "source": [
    "# Load a binary classification dataset\n",
    "data = pd.read_csv('train.csv')\n",
    "X = data.drop(\"labels\", axis=1)\n",
    "print(X.shape)\n",
    "y = data[[\"labels\"]].copy()"
   ]
  },
  {
   "cell_type": "code",
   "execution_count": 33,
   "metadata": {},
   "outputs": [
    {
     "data": {
      "image/png": "[encoded data removed]",
      "text/plain": [
       "<Figure size 432x288 with 1 Axes>"
      ]
     },
     "metadata": {
      "needs_background": "light"
     },
     "output_type": "display_data"
    }
   ],
   "source": [
    "import matplotlib.pyplot as plt\n",
    "y['labels'].value_counts().plot(kind='bar', legend=True, alpha=.5)\n",
    "plt.title(\"Count of Scores\")\n",
    "plt.show()"
   ]
  },
  {
   "cell_type": "code",
   "execution_count": 34,
   "metadata": {},
   "outputs": [
    {
     "data": {
      "image/png": "[encoded data removed]",
      "text/plain": [
       "<Figure size 432x288 with 1 Axes>"
      ]
     },
     "metadata": {
      "needs_background": "light"
     },
     "output_type": "display_data"
    }
   ],
   "source": [
    "from imblearn.over_sampling import RandomOverSampler\n",
    "from imblearn.under_sampling import RandomUnderSampler\n",
    "from imblearn.pipeline import Pipeline\n",
    "from imblearn.over_sampling import SMOTE\n",
    "over = SMOTE()\n",
    "under = RandomUnderSampler()\n",
    "X_s, y_s = over.fit_resample(X, y)\n",
    "\n",
    "import matplotlib.pyplot as plt\n",
    "y_s['labels'].value_counts().plot(kind='bar', legend=True, alpha=.5)\n",
    "plt.title(\"Count of Scores\")\n",
    "plt.show()"
   ]
  },
  {
   "cell_type": "code",
   "execution_count": 35,
   "metadata": {},
   "outputs": [
    {
     "name": "stdout",
     "output_type": "stream",
     "text": [
      "(2250, 1200)\n"
     ]
    }
   ],
   "source": [
    "# X_train_s, X_test_s, y_train_s, y_test_s = train_test_split(X_s, y_s, test_size=0.2, random_state=42)\n",
    "X_train, X_test, y_train, y_test = train_test_split(X, y, test_size=0.2, random_state=42)\n",
    "X_train_s, y_train_s = under.fit_resample(X_train, y_train)\n",
    "\n",
    "X_ftest = pd.read_csv(\"test.csv\")\n",
    "X_ftest = X_ftest.drop(\"id\", axis=1)\n",
    "print(X_ftest.shape)"
   ]
  },
  {
   "cell_type": "code",
   "execution_count": 36,
   "metadata": {},
   "outputs": [],
   "source": [
    "# Create the individual classifiers\n",
    "knn = KNeighborsClassifier(algorithm='auto', leaf_size=30, metric='manhattan',\n",
    "                     metric_params=None, n_jobs=-1, n_neighbors=20, p=2,\n",
    "                     weights='distance')\n",
    "nb = GaussianNB(priors=None, var_smoothing=1)\n",
    "lgbm  = LGBMClassifier(bagging_fraction=0.8, bagging_freq=7, boosting_type='gbdt',\n",
    "               class_weight=None, colsample_bytree=1.0, feature_fraction=0.6,\n",
    "               importance_type='split', learning_rate=0.1, max_depth=-1,\n",
    "               min_child_samples=66, min_child_weight=0.001, min_split_gain=0.3,\n",
    "               n_estimators=290, n_jobs=-1, num_leaves=70, objective=None,\n",
    "               random_state=8623, reg_alpha=0.5, reg_lambda=0.01, silent='warn',\n",
    "               subsample=1.0, subsample_for_bin=200000, subsample_freq=0)\n",
    "svm = SVC()\n",
    "lr = LogisticRegression()\n",
    "rf = RandomForestClassifier()\n",
    "xgb = XGBClassifier(learning_rate=0.1, max_depth=7, min_child_weight=4, n_estimators=270)\n",
    "bagging = BaggingClassifier(base_estimator=knn, n_estimators=10, random_state=42)\n"
   ]
  },
  {
   "cell_type": "code",
   "execution_count": 37,
   "metadata": {},
   "outputs": [],
   "source": [
    "# # Define the parameter grids for KNN and Naive Bayes\n",
    "# cv_method = RepeatedStratifiedKFold(n_splits=5, \n",
    "#                                     n_repeats=3, \n",
    "#                                     random_state=999)\n",
    "\n",
    "# knn_param_grid = { \n",
    "#     'n_neighbors' : [5,7,9,11,13,15],\n",
    "#     'weights' : ['uniform','distance'],\n",
    "#     'metric' : ['minkowski','euclidean','manhattan'],\n",
    "#     'leaf_size': [1,2,3]\n",
    "# }\n",
    "\n",
    "# nb_param_grid = {\n",
    "#     'var_smoothing': np.logspace(0,-9, num=100)\n",
    "# }\n",
    "\n",
    "# # Optimize hyperparameters for KNN and Naive Bayes with early stopping\n",
    "\n",
    "# knn_grid = GridSearchCV(estimator=knn, param_grid=knn_param_grid, scoring='f1', cv=cv_method, verbose=1, n_jobs=-1)\n",
    "# knn_grid.fit(X_train, y_train.to_numpy().ravel())\n",
    "# best_knn = knn_grid.best_estimator_\n",
    "\n",
    "# nb_grid = GridSearchCV(estimator=nb, param_grid=nb_param_grid, scoring='f1', cv=cv_method, verbose=1, n_jobs=-1)\n",
    "# nb_grid.fit(X_train, y_train.to_numpy().ravel())\n",
    "# best_nb = nb_grid.best_estimator_\n",
    "\n",
    "# print(knn_grid.best_params_)\n",
    "# print(nb_grid.best_params_)\n",
    "\n",
    "# Best so far\n",
    "# {'leaf_size': 1, 'metric': 'manhattan', 'n_neighbors': 13, 'weights': 'uniform'}\n",
    "# {'var_smoothing': 1.0}\n",
    "\n",
    "# For oversampling\n",
    "# {'leaf_size': 1, 'metric': 'minkowski', 'n_neighbors': 9, 'weights': 'distance'}\n",
    "# {'var_smoothing': 0.657933224657568}\n",
    "\n",
    "best_knn = knn\n",
    "best_nb = nb"
   ]
  },
  {
   "cell_type": "code",
   "execution_count": 38,
   "metadata": {},
   "outputs": [
    {
     "name": "stdout",
     "output_type": "stream",
     "text": [
      "Accuracy: 88.57%\n",
      "fscore: 75.61%\n"
     ]
    }
   ],
   "source": [
    "# Create the ensemble model\n",
    "ensemble_model = VotingClassifier(estimators=[\n",
    "    ('knn', best_knn),\n",
    "    ('nb', best_nb),\n",
    "    ('xgb', xgb)\n",
    "], voting='hard', n_jobs=-1)\n",
    "\n",
    "# Train the ensemble model\n",
    "ensemble_model.fit(X_train, y_train.to_numpy().ravel())\n",
    "\n",
    "# Make predictions on test data\n",
    "y_pred = ensemble_model.predict(X_test)\n",
    "\n",
    "# Evaluate the ensemble model\n",
    "accuracy = accuracy_score(y_test, y_pred)\n",
    "print(\"Accuracy: {:.2f}%\".format(accuracy * 100))\n",
    "\n",
    "fscore = f1_score(y_test, y_pred)\n",
    "print(\"fscore: {:.2f}%\".format(fscore * 100))\n"
   ]
  },
  {
   "cell_type": "code",
   "execution_count": 39,
   "metadata": {},
   "outputs": [
    {
     "name": "stdout",
     "output_type": "stream",
     "text": [
      "Accuracy: 89.14%\n",
      "fscore: 76.15%\n"
     ]
    }
   ],
   "source": [
    "# Create the ensemble model\n",
    "bagging = BaggingClassifier(estimator=best_knn, n_estimators=50, random_state=42)\n",
    "\n",
    "bagging.fit(X_train, y_train.to_numpy().ravel())\n",
    "# Make predictions on test data\n",
    "y_pred = bagging.predict(X_test)\n",
    "\n",
    "# Evaluate the ensemble model\n",
    "accuracy = accuracy_score(y_test, y_pred)\n",
    "print(\"Accuracy: {:.2f}%\".format(accuracy * 100))\n",
    "\n",
    "fscore = f1_score(y_test, y_pred)\n",
    "print(\"fscore: {:.2f}%\".format(fscore * 100))"
   ]
  },
  {
   "cell_type": "code",
   "execution_count": 40,
   "metadata": {},
   "outputs": [
    {
     "name": "stdout",
     "output_type": "stream",
     "text": [
      "Accuracy: 89.71%\n",
      "fscore: 77.87%\n"
     ]
    }
   ],
   "source": [
    "# Create the ensemble model\n",
    "ensemble_model = StackingClassifier(estimators=[\n",
    "    ('knn', bagging),\n",
    "    ('nb', best_nb),\n",
    "    ('xgb', xgb),\n",
    "], final_estimator=lr)\n",
    "\n",
    "# Train the ensemble model\n",
    "ensemble_model.fit(X_train, y_train.to_numpy().ravel())\n",
    "\n",
    "# Make predictions on test data\n",
    "y_pred = ensemble_model.predict(X_test)\n",
    "\n",
    "# Evaluate the ensemble model\n",
    "accuracy = accuracy_score(y_test, y_pred)\n",
    "print(\"Accuracy: {:.2f}%\".format(accuracy * 100))\n",
    "\n",
    "fscore = f1_score(y_test, y_pred)\n",
    "print(\"fscore: {:.2f}%\".format(fscore * 100))\n"
   ]
  },
  {
   "cell_type": "code",
   "execution_count": 41,
   "metadata": {},
   "outputs": [
    {
     "name": "stdout",
     "output_type": "stream",
     "text": [
      "Accuracy: 88.38%\n",
      "fscore: 75.00%\n"
     ]
    }
   ],
   "source": [
    "# Check against non ensembled models\n",
    "best_knn.fit(X_train, y_train.to_numpy().ravel())\n",
    "\n",
    "# Make predictions on test data\n",
    "y_pred = best_knn.predict(X_test)\n",
    "\n",
    "# Evaluate the ensemble model\n",
    "accuracy = accuracy_score(y_test, y_pred)\n",
    "print(\"Accuracy: {:.2f}%\".format(accuracy * 100))\n",
    "\n",
    "fscore = f1_score(y_test, y_pred)\n",
    "print(\"fscore: {:.2f}%\".format(fscore * 100))"
   ]
  },
  {
   "cell_type": "code",
   "execution_count": 42,
   "metadata": {},
   "outputs": [],
   "source": [
    "#Pick which is better"
   ]
  },
  {
   "cell_type": "code",
   "execution_count": 43,
   "metadata": {},
   "outputs": [
    {
     "name": "stdout",
     "output_type": "stream",
     "text": [
      "[1 0 0 ... 1 0 1]\n"
     ]
    }
   ],
   "source": [
    "#Train on actual data\n",
    "ensemble_model = StackingClassifier(estimators=[\n",
    "    ('knn', bagging),\n",
    "    ('nb', best_nb),\n",
    "    ('xgb', xgb),\n",
    "], final_estimator=lr)\n",
    "\n",
    "# Train the ensemble model\n",
    "ensemble_model.fit(X, y.to_numpy().ravel())\n",
    "#Predict\n",
    "y_pred = ensemble_model.predict(X_ftest)\n",
    "print(y_pred)"
   ]
  },
  {
   "cell_type": "code",
   "execution_count": 44,
   "metadata": {},
   "outputs": [],
   "source": [
    "predict_df = pd.DataFrame(y_pred, columns=['labels'])\n",
    "predict_df = predict_df.reset_index()\n",
    "predict_df = predict_df.rename(columns={\"index\":\"id\"})\n",
    "predict_df['id'] = predict_df.index + 1\n",
    "predict_df.to_csv(r'submission_stacked_bagging.csv',index=False)"
   ]
  }
 ],
 "metadata": {
  "kernelspec": {
   "display_name": "Python 3",
   "language": "python",
   "name": "python3"
  },
  "language_info": {
   "codemirror_mode": {
    "name": "ipython",
    "version": 3
   },
   "file_extension": ".py",
   "mimetype": "text/x-python",
   "name": "python",
   "nbconvert_exporter": "python",
   "pygments_lexer": "ipython3",
   "version": "3.8.16"
  }
 },
 "nbformat": 4,
 "nbformat_minor": 4
}
