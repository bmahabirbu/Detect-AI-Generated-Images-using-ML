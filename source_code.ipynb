{
 "cells": [
  {
   "cell_type": "code",
   "execution_count": 1,
   "metadata": {},
   "outputs": [],
   "source": [
    "#Import all data\n",
    "from sklearn.ensemble import VotingClassifier\n",
    "from sklearn.neighbors import KNeighborsClassifier\n",
    "from sklearn.naive_bayes import GaussianNB\n",
    "from xgboost import XGBClassifier\n",
    "from lightgbm import LGBMClassifier\n",
    "from sklearn.linear_model import LogisticRegression\n",
    "from sklearn.linear_model import LinearRegression\n",
    "from sklearn.ensemble import RandomForestClassifier\n",
    "from sklearn.ensemble import StackingClassifier\n",
    "from sklearn.ensemble import BaggingClassifier, AdaBoostClassifier\n",
    "from sklearn.svm import SVC\n",
    "\n",
    "\n",
    "from sklearn.model_selection import train_test_split\n",
    "from sklearn.model_selection import GridSearchCV\n",
    "from sklearn.model_selection import RepeatedStratifiedKFold\n",
    "\n",
    "from sklearn.metrics import roc_curve, roc_auc_score, precision_recall_curve, auc, accuracy_score, confusion_matrix\n",
    "from sklearn.feature_selection import RFE\n",
    "from sklearn.preprocessing import StandardScaler\n",
    "import seaborn as sns\n",
    "from sklearn import preprocessing\n",
    "from sklearn.metrics import f1_score\n",
    "\n",
    "import pandas as pd\n",
    "import numpy as np"
   ]
  },
  {
   "cell_type": "code",
   "execution_count": 2,
   "metadata": {},
   "outputs": [
    {
     "name": "stdout",
     "output_type": "stream",
     "text": [
      "(5250, 1200)\n"
     ]
    }
   ],
   "source": [
    "# Load a binary classification dataset\n",
    "scaler = StandardScaler()\n",
    "\n",
    "data = pd.read_csv('train.csv')\n",
    "X = data.drop(\"labels\", axis=1)\n",
    "print(X.shape)\n",
    "y = data[[\"labels\"]].copy()\n",
    "\n",
    "X = scaler.fit_transform(X)"
   ]
  },
  {
   "cell_type": "code",
   "execution_count": 3,
   "metadata": {},
   "outputs": [
    {
     "data": {
      "image/png": "[encoded data removed]",
      "text/plain": [
       "<Figure size 432x288 with 1 Axes>"
      ]
     },
     "metadata": {
      "needs_background": "light"
     },
     "output_type": "display_data"
    }
   ],
   "source": [
    "# Explore imbalance\n",
    "import matplotlib.pyplot as plt\n",
    "y['labels'].value_counts().plot(kind='bar', legend=True, alpha=.5)\n",
    "plt.title(\"Count of Scores\")\n",
    "plt.show()"
   ]
  },
  {
   "cell_type": "code",
   "execution_count": 4,
   "metadata": {},
   "outputs": [
    {
     "data": {
      "image/png": "[encoded data removed]",
      "text/plain": [
       "<Figure size 432x288 with 1 Axes>"
      ]
     },
     "metadata": {
      "needs_background": "light"
     },
     "output_type": "display_data"
    }
   ],
   "source": [
    "# Data sampling \n",
    "from imblearn.over_sampling import RandomOverSampler\n",
    "from imblearn.under_sampling import RandomUnderSampler\n",
    "from imblearn.pipeline import Pipeline\n",
    "from imblearn.over_sampling import SMOTE\n",
    "over = SMOTE()\n",
    "under = RandomUnderSampler()\n",
    "X_o, y_o = over.fit_resample(X, y)\n",
    "\n",
    "import matplotlib.pyplot as plt\n",
    "y_o['labels'].value_counts().plot(kind='bar', legend=True, alpha=.5)\n",
    "plt.title(\"Count of Scores\")\n",
    "plt.show()"
   ]
  },
  {
   "cell_type": "code",
   "execution_count": 5,
   "metadata": {},
   "outputs": [
    {
     "name": "stdout",
     "output_type": "stream",
     "text": [
      "(2250, 1200)\n"
     ]
    }
   ],
   "source": [
    "# Split data set and read test data\n",
    "\n",
    "# X_train_s, X_test_s, y_train_s, y_test_s = train_test_split(X_s, y_s, test_size=0.2, random_state=42)\n",
    "X_train, X_test, y_train, y_test = train_test_split(X, y, test_size=0.2, random_state=42)\n",
    "# X_train_s, y_train_s = under.fit_resample(X_train, y_train)\n",
    "\n",
    "X_ftest = pd.read_csv(\"test.csv\")\n",
    "X_ftest = X_ftest.drop(\"id\", axis=1)\n",
    "# Scale\n",
    "X_ftest = scaler.fit_transform(X_ftest)\n",
    "print(X_ftest.shape)"
   ]
  },
  {
   "cell_type": "code",
   "execution_count": 6,
   "metadata": {},
   "outputs": [],
   "source": [
    "# Use RFE for feature selection\n",
    "# The estimator used for feature selection\n",
    "rfe = RFE(LogisticRegression(solver='liblinear', max_iter=1000), n_features_to_select=1000)\n",
    "X_train_s = rfe.fit_transform(X_train, y_train.to_numpy().ravel())\n",
    "X_test_s = rfe.transform(X_test)"
   ]
  },
  {
   "cell_type": "code",
   "execution_count": 7,
   "metadata": {},
   "outputs": [],
   "source": [
    "# Transform the true test data as well\n",
    "# Use RFE for feature selection\n",
    "rfe = RFE(LogisticRegression(solver='liblinear', max_iter=1000), n_features_to_select=1000)\n",
    "X_s = rfe.fit_transform(X,  y.to_numpy().ravel())\n",
    "X_ftest_s = rfe.transform(X_ftest)"
   ]
  },
  {
   "cell_type": "code",
   "execution_count": 8,
   "metadata": {},
   "outputs": [],
   "source": [
    "# Create the individual classifiers with hyperparameters already tuned using pycaret\n",
    "knn = KNeighborsClassifier(algorithm='auto', leaf_size=38, metric='manhattan',\n",
    "                     metric_params=None, n_jobs=-1, n_neighbors=20, p=2,\n",
    "                     weights='distance')\n",
    "nb = GaussianNB(priors=None, var_smoothing=1)\n",
    "lgbm  = LGBMClassifier(bagging_fraction=0.8, bagging_freq=7, boosting_type='gbdt',\n",
    "               class_weight=None, colsample_bytree=1.0, feature_fraction=0.6,\n",
    "               importance_type='split', learning_rate=0.1, max_depth=-1,\n",
    "               min_child_samples=66, min_child_weight=0.001, min_split_gain=0.3,\n",
    "               n_estimators=290, n_jobs=-1, num_leaves=70, objective=None,\n",
    "               random_state=8623, reg_alpha=0.5, reg_lambda=0.01, silent='warn',\n",
    "               subsample=1.0, subsample_for_bin=200000, subsample_freq=0)\n",
    "svm = SVC()\n",
    "lr = LogisticRegression()\n",
    "rf = RandomForestClassifier()\n",
    "xgb = XGBClassifier(learning_rate=0.1, max_depth=7, min_child_weight=4, n_estimators=270)\n",
    "bagging = BaggingClassifier(base_estimator=knn, n_estimators=10, random_state=42)\n"
   ]
  },
  {
   "cell_type": "code",
   "execution_count": 9,
   "metadata": {},
   "outputs": [],
   "source": [
    "# Commented out code that I used for hyperparameter tuning before using pycaret\n",
    "\n",
    "# # Define the parameter grids for KNN and Naive Bayes\n",
    "# cv_method = RepeatedStratifiedKFold(n_splits=5, \n",
    "#                                     n_repeats=3, \n",
    "#                                     random_state=999)\n",
    "\n",
    "# knn_param_grid = { \n",
    "#     'n_neighbors' : [5,7,9,11,13,15],\n",
    "#     'weights' : ['uniform','distance'],\n",
    "#     'metric' : ['minkowski','euclidean','manhattan'],\n",
    "#     'leaf_size': [1,2,3]\n",
    "# }\n",
    "\n",
    "# nb_param_grid = {\n",
    "#     'var_smoothing': np.logspace(0,-9, num=100)\n",
    "# }\n",
    "\n",
    "# # Optimize hyperparameters for KNN and Naive Bayes with early stopping\n",
    "\n",
    "# knn_grid = GridSearchCV(estimator=knn, param_grid=knn_param_grid, scoring='f1', cv=cv_method, verbose=1, n_jobs=-1)\n",
    "# knn_grid.fit(X_train, y_train.to_numpy().ravel())\n",
    "# best_knn = knn_grid.best_estimator_\n",
    "\n",
    "# nb_grid = GridSearchCV(estimator=nb, param_grid=nb_param_grid, scoring='f1', cv=cv_method, verbose=1, n_jobs=-1)\n",
    "# nb_grid.fit(X_train, y_train.to_numpy().ravel())\n",
    "# best_nb = nb_grid.best_estimator_\n",
    "\n",
    "# print(knn_grid.best_params_)\n",
    "# print(nb_grid.best_params_)\n",
    "\n",
    "# Best so far\n",
    "# {'leaf_size': 1, 'metric': 'manhattan', 'n_neighbors': 13, 'weights': 'uniform'}\n",
    "# {'var_smoothing': 1.0}\n",
    "\n",
    "# For oversampling\n",
    "# {'leaf_size': 1, 'metric': 'minkowski', 'n_neighbors': 9, 'weights': 'distance'}\n",
    "# {'var_smoothing': 0.657933224657568}\n",
    "\n",
    "best_knn = knn\n",
    "best_nb = nb"
   ]
  },
  {
   "cell_type": "code",
   "execution_count": 10,
   "metadata": {},
   "outputs": [
    {
     "name": "stdout",
     "output_type": "stream",
     "text": [
      "Accuracy: 88.86%\n",
      "fscore: 75.05%\n"
     ]
    }
   ],
   "source": [
    "# Check against knn\n",
    "best_knn.fit(X_train, y_train.to_numpy().ravel())\n",
    "\n",
    "# Make predictions on test data\n",
    "y_pred = best_knn.predict(X_test)\n",
    "\n",
    "# Evaluate the ensemble model\n",
    "accuracy = accuracy_score(y_test, y_pred)\n",
    "print(\"Accuracy: {:.2f}%\".format(accuracy * 100))\n",
    "\n",
    "fscore = f1_score(y_test, y_pred)\n",
    "print(\"fscore: {:.2f}%\".format(fscore * 100))"
   ]
  },
  {
   "cell_type": "code",
   "execution_count": 11,
   "metadata": {},
   "outputs": [
    {
     "name": "stdout",
     "output_type": "stream",
     "text": [
      "Accuracy: 89.43%\n",
      "fscore: 76.13%\n"
     ]
    }
   ],
   "source": [
    "# Check RFE against knn\n",
    "best_knn.fit(X_train_s, y_train.to_numpy().ravel())\n",
    "\n",
    "# Make predictions on test data\n",
    "y_pred = best_knn.predict(X_test_s)\n",
    "\n",
    "# Evaluate the ensemble model\n",
    "accuracy = accuracy_score(y_test, y_pred)\n",
    "print(\"Accuracy: {:.2f}%\".format(accuracy * 100))\n",
    "\n",
    "fscore = f1_score(y_test, y_pred)\n",
    "print(\"fscore: {:.2f}%\".format(fscore * 100))"
   ]
  },
  {
   "attachments": {},
   "cell_type": "markdown",
   "metadata": {},
   "source": [
    "We Know RFE works and will use it for the rest of the testing"
   ]
  },
  {
   "cell_type": "code",
   "execution_count": 12,
   "metadata": {},
   "outputs": [],
   "source": [
    "# # Create the ensemble voting model\n",
    "# ensemble_model = VotingClassifier(estimators=[\n",
    "#     ('knn', best_knn),\n",
    "#     ('nb', best_nb),\n",
    "#     ('xgb', xgb)\n",
    "# ], voting='hard', n_jobs=-1)\n",
    "\n",
    "# # Train the ensemble model\n",
    "# ensemble_model.fit(X_train_s, y_train_s.to_numpy().ravel())\n",
    "\n",
    "# # Make predictions on test data\n",
    "# y_pred = ensemble_model.predict(X_test)\n",
    "\n",
    "# # Evaluate the ensemble model\n",
    "# accuracy = accuracy_score(y_test, y_pred)\n",
    "# print(\"Accuracy: {:.2f}%\".format(accuracy * 100))\n",
    "\n",
    "# fscore = f1_score(y_test, y_pred)\n",
    "# print(\"fscore: {:.2f}%\".format(fscore * 100))\n",
    "\n",
    "# Accuracy: 88.57%\n",
    "# fscore: 75.61%"
   ]
  },
  {
   "cell_type": "code",
   "execution_count": 14,
   "metadata": {},
   "outputs": [
    {
     "name": "stdout",
     "output_type": "stream",
     "text": [
      "Accuracy: 88.86%\n",
      "fscore: 74.29%\n"
     ]
    }
   ],
   "source": [
    "# Create the knn bagged model\n",
    "bagging = BaggingClassifier(estimator=best_knn, n_estimators=20, random_state=42)\n",
    "\n",
    "bagging.fit(X_train_s, y_train.to_numpy().ravel())\n",
    "# Make predictions on test data\n",
    "y_pred = bagging.predict(X_test_s)\n",
    "\n",
    "# Evaluate the ensemble model\n",
    "accuracy = accuracy_score(y_test, y_pred)\n",
    "print(\"Accuracy: {:.2f}%\".format(accuracy * 100))\n",
    "\n",
    "fscore = f1_score(y_test, y_pred)\n",
    "print(\"fscore: {:.2f}%\".format(fscore * 100))"
   ]
  },
  {
   "cell_type": "code",
   "execution_count": 16,
   "metadata": {},
   "outputs": [
    {
     "name": "stdout",
     "output_type": "stream",
     "text": [
      "Accuracy: 88.29%\n",
      "fscore: 75.74%\n"
     ]
    }
   ],
   "source": [
    "# Create the ensemble model\n",
    "ensemble_model = StackingClassifier(estimators=[\n",
    "    ('knn', best_knn),\n",
    "    ('nb', best_nb),\n",
    "    ('xgb', xgb),\n",
    "], final_estimator=best_knn)\n",
    "\n",
    "# Train the ensemble model\n",
    "ensemble_model.fit(X_train_s, y_train.to_numpy().ravel())\n",
    "\n",
    "# Make predictions on test data\n",
    "y_pred = ensemble_model.predict(X_test_s)\n",
    "\n",
    "# Evaluate the ensemble model\n",
    "accuracy = accuracy_score(y_test, y_pred)\n",
    "print(\"Accuracy: {:.2f}%\".format(accuracy * 100))\n",
    "\n",
    "fscore = f1_score(y_test, y_pred)\n",
    "print(\"fscore: {:.2f}%\".format(fscore * 100))\n"
   ]
  },
  {
   "cell_type": "code",
   "execution_count": 17,
   "metadata": {},
   "outputs": [
    {
     "data": {
      "text/plain": [
       "<Axes: >"
      ]
     },
     "execution_count": 17,
     "metadata": {},
     "output_type": "execute_result"
    },
    {
     "data": {
      "image/png": "[encoded data removed]",
      "text/plain": [
       "<Figure size 432x288 with 2 Axes>"
      ]
     },
     "metadata": {
      "needs_background": "light"
     },
     "output_type": "display_data"
    }
   ],
   "source": [
    "# Visualization\n",
    "results = confusion_matrix(y_test, y_pred)\n",
    "\n",
    "group_names = ['True Neg','False Pos','False Neg','True Pos']\n",
    "group_counts = [\"{0:0.0f}\".format(value) for value in\n",
    "                results.flatten()]\n",
    "group_percentages = [\"{0:.2%}\".format(value) for value in\n",
    "                     results.flatten()/np.sum(results)]\n",
    "labels = [f\"{v1}\\n{v2}\\n{v3}\" for v1, v2, v3 in\n",
    "          zip(group_names,group_counts,group_percentages)]\n",
    "labels = np.asarray(labels).reshape(2,2)\n",
    "sns.heatmap(results, annot=labels, fmt='', cmap='Reds')"
   ]
  },
  {
   "cell_type": "code",
   "execution_count": 19,
   "metadata": {},
   "outputs": [],
   "source": [
    "# Get predicted probabilities for positive class\n",
    "y_pred_proba = ensemble_model.predict_proba(X_test_s)[:, 1]"
   ]
  },
  {
   "cell_type": "code",
   "execution_count": 20,
   "metadata": {},
   "outputs": [
    {
     "data": {
      "image/png": "[encoded data removed]",
      "text/plain": [
       "<Figure size 432x288 with 1 Axes>"
      ]
     },
     "metadata": {
      "needs_background": "light"
     },
     "output_type": "display_data"
    }
   ],
   "source": [
    "# ROC Curve\n",
    "fpr, tpr, thresholds = roc_curve(y_test, y_pred_proba)\n",
    "roc_auc = roc_auc_score(y_test, y_pred_proba)\n",
    "\n",
    "plt.figure()\n",
    "plt.plot(fpr, tpr, label='ROC curve (area = %0.2f)' % roc_auc)\n",
    "plt.plot([0, 1], [0, 1], 'k--')\n",
    "plt.xlim([0.0, 1.0])\n",
    "plt.ylim([0.0, 1.05])\n",
    "plt.xlabel('False Positive Rate')\n",
    "plt.ylabel('True Positive Rate')\n",
    "plt.title('Receiver Operating Characteristic (ROC) Curve')\n",
    "plt.legend(loc=\"lower right\")\n",
    "plt.show()"
   ]
  },
  {
   "cell_type": "code",
   "execution_count": 21,
   "metadata": {},
   "outputs": [
    {
     "data": {
      "image/png": "[encoded data removed]",
      "text/plain": [
       "<Figure size 432x288 with 1 Axes>"
      ]
     },
     "metadata": {
      "needs_background": "light"
     },
     "output_type": "display_data"
    }
   ],
   "source": [
    "# Precision-Recall Curve\n",
    "precision, recall, _ = precision_recall_curve(y_test, y_pred_proba)\n",
    "pr_auc = auc(recall, precision)\n",
    "\n",
    "plt.figure()\n",
    "plt.plot(recall, precision, label='Precision-Recall curve (area = %0.2f)' % pr_auc)\n",
    "plt.xlabel('Recall')\n",
    "plt.ylabel('Precision')\n",
    "plt.title('Precision-Recall Curve')\n",
    "plt.legend(loc=\"lower right\")\n",
    "plt.show()"
   ]
  },
  {
   "cell_type": "code",
   "execution_count": 22,
   "metadata": {},
   "outputs": [
    {
     "data": {
      "image/png": "[encoded data removed]",
      "text/plain": [
       "<Figure size 432x288 with 1 Axes>"
      ]
     },
     "metadata": {
      "needs_background": "light"
     },
     "output_type": "display_data"
    },
    {
     "data": {
      "image/png": "[encoded data removed]",
      "text/plain": [
       "<Figure size 432x288 with 1 Axes>"
      ]
     },
     "metadata": {
      "needs_background": "light"
     },
     "output_type": "display_data"
    }
   ],
   "source": [
    "# Create an array of thresholds\n",
    "thresholds = np.linspace(0, 1, 100)\n",
    "\n",
    "# Calculate F1 scores and accuracies for different thresholds\n",
    "f1_scores = [f1_score(y_test, y_pred_proba >= threshold) for threshold in thresholds]\n",
    "accuracies = [accuracy_score(y_test, y_pred_proba >= threshold) for threshold in thresholds]\n",
    "\n",
    "# Plot F1 Score vs. Threshold\n",
    "plt.figure()\n",
    "plt.plot(thresholds, f1_scores)\n",
    "plt.xlabel('Threshold')\n",
    "plt.ylabel('F1 Score')\n",
    "plt.title('F1 Score vs. Threshold')\n",
    "plt.show()\n",
    "\n",
    "# Plot Accuracy vs. Threshold\n",
    "plt.figure()\n",
    "plt.plot(thresholds, accuracies)\n",
    "plt.xlabel('Threshold')\n",
    "plt.ylabel('Accuracy')\n",
    "plt.title('Accuracy vs. Threshold')\n",
    "plt.show()"
   ]
  },
  {
   "cell_type": "code",
   "execution_count": null,
   "metadata": {},
   "outputs": [],
   "source": [
    "#Pick which is better"
   ]
  },
  {
   "cell_type": "code",
   "execution_count": 27,
   "metadata": {},
   "outputs": [
    {
     "name": "stdout",
     "output_type": "stream",
     "text": [
      "[1 0 0 ... 1 0 1]\n"
     ]
    }
   ],
   "source": [
    "#Train on actual data\n",
    "ensemble_model = StackingClassifier(estimators=[\n",
    "    ('knn', best_knn),\n",
    "    ('nb', best_nb),\n",
    "    ('xgb', xgb),\n",
    "], final_estimator=best_knn)\n",
    "\n",
    "# Train the ensemble model\n",
    "ensemble_model.fit(X_s, y.to_numpy().ravel())\n",
    "#Predict\n",
    "y_pred = ensemble_model.predict(X_ftest_s)\n",
    "print(y_pred)"
   ]
  },
  {
   "cell_type": "code",
   "execution_count": 26,
   "metadata": {},
   "outputs": [],
   "source": [
    "predict_df = pd.DataFrame(y_pred, columns=['labels'])\n",
    "predict_df = predict_df.reset_index()\n",
    "predict_df = predict_df.rename(columns={\"index\":\"id\"})\n",
    "predict_df['id'] = predict_df.index + 1\n",
    "predict_df.to_csv(r'submission_stacked_rfe.csv',index=False)"
   ]
  },
  {
   "cell_type": "code",
   "execution_count": null,
   "metadata": {},
   "outputs": [],
   "source": [
    "# Ended up getting worse preformance with RFE and Standard Scale so my highest submission uses the same ensembled model without those "
   ]
  }
 ],
 "metadata": {
  "kernelspec": {
   "display_name": "Python 3",
   "language": "python",
   "name": "python3"
  },
  "language_info": {
   "codemirror_mode": {
    "name": "ipython",
    "version": 3
   },
   "file_extension": ".py",
   "mimetype": "text/x-python",
   "name": "python",
   "nbconvert_exporter": "python",
   "pygments_lexer": "ipython3",
   "version": "3.8.16"
  }
 },
 "nbformat": 4,
 "nbformat_minor": 4
}
